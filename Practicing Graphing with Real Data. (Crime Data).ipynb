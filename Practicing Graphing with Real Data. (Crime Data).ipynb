{
 "cells": [
  {
   "cell_type": "code",
   "execution_count": null,
   "metadata": {},
   "outputs": [],
   "source": [
    "#importing packages\n",
    "import pandas as pd\n",
    "from matplotlib import pyplot as plt\n",
    "from collections import Counter\n",
    "%config IPCompleter.greedy=True"
   ]
  },
  {
   "cell_type": "code",
   "execution_count": null,
   "metadata": {},
   "outputs": [],
   "source": [
    "crime = pd.read_csv('NYPD_Hate_Crimes.csv')\n",
    "crime"
   ]
  },
  {
   "cell_type": "code",
   "execution_count": null,
   "metadata": {},
   "outputs": [],
   "source": [
    "###Identifying how many unique motive descriptions are present. May or may not use this for graphing due to number of motives."
   ]
  },
  {
   "cell_type": "code",
   "execution_count": 26,
   "metadata": {},
   "outputs": [
    {
     "data": {
      "text/plain": [
       "24"
      ]
     },
     "execution_count": 26,
     "metadata": {},
     "output_type": "execute_result"
    }
   ],
   "source": [
    "motive = crime['Bias Motive Description']\n",
    "motive\n",
    "pd.Series(motive).nunique()"
   ]
  },
  {
   "cell_type": "code",
   "execution_count": null,
   "metadata": {},
   "outputs": [],
   "source": [
    "###Since I chose not to graph this data I will atleast display the amount of occurences. This will also be beneficial if I\n",
    "###change my mind."
   ]
  },
  {
   "cell_type": "code",
   "execution_count": 35,
   "metadata": {},
   "outputs": [
    {
     "data": {
      "text/plain": [
       "ANTI-JEWISH                          371\n",
       "ANTI-MALE HOMOSEXUAL(GAY)             78\n",
       "ANTI-BLACK                            75\n",
       "ANTI-WHITE                            38\n",
       "ANTI-ASIAN                            31\n",
       "ANTI-ISLAMIC(MUSLIM)                  20\n",
       "ANTI-TRANSGENDER                      17\n",
       "ANTI-CATHOLIC                         15\n",
       "ANTI-OTHER ETHNICITY                  14\n",
       "ANTI-FEMALE                           11\n",
       "ANTI-FEMALE HOMOSEXUAL(GAY)           11\n",
       "ANTI-LGBT(MIXED GROUP)                10\n",
       "ANTI-HISPANIC                          9\n",
       "ANTI-ARAB                              6\n",
       "ANTI-MULTI RACIAL GROUPS               3\n",
       "OTHER                                  3\n",
       "ANTI-GENDER NON CONFORMING             2\n",
       "ANTI-BUDDHIST                          2\n",
       "ANTI-OTHER RELIGION                    2\n",
       "ANTI-RELIGIOUS PRACTICE GENERALLY      2\n",
       "ANTI-HINDU                             2\n",
       "ANTI-JEHOVAS WITNESS                   1\n",
       "50 YEARS OLD OR MORE                   1\n",
       "ANTI-PHYSICAL DISABILITY               1\n",
       "Name: Bias Motive Description, dtype: int64"
      ]
     },
     "execution_count": 35,
     "metadata": {},
     "output_type": "execute_result"
    }
   ],
   "source": [
    "crime['Bias Motive Description'].value_counts()"
   ]
  },
  {
   "cell_type": "code",
   "execution_count": null,
   "metadata": {},
   "outputs": [],
   "source": [
    "###Identifyng the number of unique offenses and how many times each of them occur."
   ]
  },
  {
   "cell_type": "code",
   "execution_count": 36,
   "metadata": {},
   "outputs": [
    {
     "data": {
      "text/plain": [
       "Religion/Religious Practice           415\n",
       "Race/Color                            147\n",
       "Sexual Orientation                     99\n",
       "Gender                                 30\n",
       "Ethnicity/National Origin/Ancestry     29\n",
       "Other                                   3\n",
       "Unclassified                            3\n",
       "Disability                              1\n",
       "Age                                     1\n",
       "Name: Offense Category, dtype: int64"
      ]
     },
     "execution_count": 36,
     "metadata": {},
     "output_type": "execute_result"
    }
   ],
   "source": [
    "category = crime['Offense Category']\n",
    "category\n",
    "### pd.Series(category).nunique() ###Not necessary anymore.\n",
    "crime['Offense Category'].value_counts()"
   ]
  },
  {
   "cell_type": "code",
   "execution_count": null,
   "metadata": {},
   "outputs": [],
   "source": [
    "###Using a for loop to find the names of all  unique category offenses. The number of names displayed is consistent with\n",
    "###the count that was done in the cells above."
   ]
  },
  {
   "cell_type": "code",
   "execution_count": 27,
   "metadata": {},
   "outputs": [
    {
     "name": "stdout",
     "output_type": "stream",
     "text": [
      "Sexual Orientation\n",
      "Race/Color\n",
      "Religion/Religious Practice\n",
      "Ethnicity/National Origin/Ancestry\n",
      "Gender\n",
      "Other\n",
      "Unclassified\n",
      "Age\n",
      "Disability\n"
     ]
    }
   ],
   "source": [
    "def unique(category):\n",
    " \n",
    "    # intilize a null list\n",
    "    unique_list = []\n",
    "     \n",
    "    # traverse for all elements\n",
    "    for x in category:\n",
    "        # check if exists in unique_list or not\n",
    "        if x not in unique_list:\n",
    "            unique_list.append(x)\n",
    "    # print list\n",
    "    for x in unique_list:\n",
    "        print(x)\n",
    "        \n",
    "unique(category)"
   ]
  },
  {
   "cell_type": "code",
   "execution_count": null,
   "metadata": {},
   "outputs": [],
   "source": [
    "###I assign the value counts for these offense categories to a variable. This is the last step before graphing."
   ]
  },
  {
   "cell_type": "code",
   "execution_count": 30,
   "metadata": {},
   "outputs": [],
   "source": [
    "sex_orient = category.value_counts()['Sexual Orientation']\n",
    "race = category.value_counts()['Race/Color']\n",
    "religion = category.value_counts()['Religion/Religious Practice']\n",
    "ethnicity = category.value_counts()['Ethnicity/National Origin/Ancestry']\n",
    "gender = category.value_counts()['Gender']\n",
    "other = category.value_counts()['Other']\n",
    "unclassified = category.value_counts()['Unclassified']\n",
    "age = category.value_counts()['Age']\n",
    "disability = category.value_counts()['Disability']\n",
    "\n",
    "names = ['Sex Orient', 'Race', 'Religion','Ethnicity','Gender' , 'Other', 'Unclassified','Age', 'Disability']\n",
    "crimes_against = [sex_orient, race, religion, ethnicity, gender, other, unclassified, age, disability]"
   ]
  },
  {
   "cell_type": "code",
   "execution_count": null,
   "metadata": {},
   "outputs": [],
   "source": [
    "###Using a bar graph because that is appropriate for this kind of data. I also rotated the xlabel because the names were\n",
    "###long."
   ]
  },
  {
   "cell_type": "code",
   "execution_count": 33,
   "metadata": {},
   "outputs": [
    {
     "data": {
      "text/plain": [
       "([0, 1, 2, 3, 4, 5, 6, 7, 8], <a list of 9 Text major ticklabel objects>)"
      ]
     },
     "execution_count": 33,
     "metadata": {},
     "output_type": "execute_result"
    },
    {
     "data": {
      "image/png": "[encoded data removed]",
      "text/plain": [
       "<Figure size 432x288 with 1 Axes>"
      ]
     },
     "metadata": {
      "needs_background": "light"
     },
     "output_type": "display_data"
    }
   ],
   "source": [
    "plt.bar(names,crimes_against)\n",
    "plt.xlabel('Offense Against')\n",
    "plt.ylabel('Amount of Crimes Against')\n",
    "plt.xticks(rotation=45)"
   ]
  },
  {
   "cell_type": "code",
   "execution_count": null,
   "metadata": {},
   "outputs": [],
   "source": [
    "###Finding all regions included in this data set for graphing."
   ]
  },
  {
   "cell_type": "code",
   "execution_count": 10,
   "metadata": {},
   "outputs": [
    {
     "name": "stdout",
     "output_type": "stream",
     "text": [
      "BRONX\n",
      "KINGS\n",
      "NEW YORK\n",
      "QUEENS\n",
      "RICHMOND\n"
     ]
    }
   ],
   "source": [
    "def unique(area):\n",
    " \n",
    "    # intilize a null list\n",
    "    unique_list = []\n",
    "     \n",
    "    # traverse for all elements\n",
    "    for x in area:\n",
    "        # check if exists in unique_list or not\n",
    "        if x not in unique_list:\n",
    "            unique_list.append(x)\n",
    "    # print list\n",
    "    for x in unique_list:\n",
    "        print(x)\n",
    "        \n",
    "unique(area)"
   ]
  },
  {
   "cell_type": "code",
   "execution_count": 37,
   "metadata": {},
   "outputs": [
    {
     "data": {
      "text/plain": [
       "KINGS       296\n",
       "NEW YORK    220\n",
       "QUEENS      125\n",
       "BRONX        59\n",
       "RICHMOND     28\n",
       "Name: County, dtype: int64"
      ]
     },
     "execution_count": 37,
     "metadata": {},
     "output_type": "execute_result"
    }
   ],
   "source": [
    "crime['County'].value_counts()"
   ]
  },
  {
   "cell_type": "code",
   "execution_count": 11,
   "metadata": {},
   "outputs": [],
   "source": [
    "bronx_crime = area.value_counts()['BRONX']\n",
    "kings_crime = area.value_counts()['KINGS']\n",
    "ny_crime = area.value_counts()['NEW YORK']\n",
    "queens_crime = area.value_counts()['QUEENS']\n",
    "richmond_crime = area.value_counts()['RICHMOND']\n",
    "\n",
    "counties = ['BRONX', 'KINGS', 'NEW YORK', 'QUEENS', 'RICHMOND']\n",
    "amount_in_county = [bronx_crime, kings_crime, ny_crime, queens_crime, richmond_crime]"
   ]
  },
  {
   "cell_type": "code",
   "execution_count": 12,
   "metadata": {},
   "outputs": [
    {
     "data": {
      "text/plain": [
       "<BarContainer object of 5 artists>"
      ]
     },
     "execution_count": 12,
     "metadata": {},
     "output_type": "execute_result"
    },
    {
     "data": {
      "image/png": "[encoded data removed]",
      "text/plain": [
       "<Figure size 432x288 with 1 Axes>"
      ]
     },
     "metadata": {
      "needs_background": "light"
     },
     "output_type": "display_data"
    }
   ],
   "source": [
    "plt.bar(counties,amount_in_county)"
   ]
  },
  {
   "cell_type": "code",
   "execution_count": null,
   "metadata": {},
   "outputs": [],
   "source": []
  }
 ],
 "metadata": {
  "kernelspec": {
   "display_name": "Python 3",
   "language": "python",
   "name": "python3"
  },
  "language_info": {
   "codemirror_mode": {
    "name": "ipython",
    "version": 3
   },
   "file_extension": ".py",
   "mimetype": "text/x-python",
   "name": "python",
   "nbconvert_exporter": "python",
   "pygments_lexer": "ipython3",
   "version": "3.8.3"
  }
 },
 "nbformat": 4,
 "nbformat_minor": 4
}
